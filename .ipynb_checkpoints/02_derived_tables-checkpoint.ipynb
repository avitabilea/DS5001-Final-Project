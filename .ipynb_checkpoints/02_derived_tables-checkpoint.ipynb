{
 "cells": [
  {
   "cell_type": "markdown",
   "id": "4aff2236-3fee-4f17-8ae7-6797fbde0b35",
   "metadata": {
    "tags": []
   },
   "source": [
    "# Metadata\n",
    "\n",
    "```yaml\n",
    "Course:   DS5001: Exploratory Text Analytics\n",
    "Topic:    Final Project, Create Tables\n",
    "Author:   Andrew Avitabile\n",
    "Date:     24 March 2024 (Edited April 25, 2024)\n",
    "```"
   ]
  },
  {
   "cell_type": "markdown",
   "id": "af1d3077-5031-4b59-9d3c-cd4aacbd6f93",
   "metadata": {
    "tags": []
   },
   "source": [
    "# Set Up"
   ]
  },
  {
   "cell_type": "markdown",
   "id": "3e6e217a-e730-4a59-98e6-3fc6469ad186",
   "metadata": {},
   "source": [
    "## Packages"
   ]
  },
  {
   "cell_type": "code",
   "execution_count": 6,
   "id": "e2162499-e23d-46e1-9b41-8f3cf4f456e9",
   "metadata": {
    "tags": []
   },
   "outputs": [],
   "source": [
    "# Importing required libraries\n",
    "import pandas as pd\n",
    "import numpy as np\n",
    "from collections import Counter\n",
    "\n",
    "\n",
    "# sklearn\n",
    "from sklearn.decomposition import PCA\n",
    "from sklearn.preprocessing import StandardScaler\n",
    "from sklearn.feature_extraction.text import TfidfVectorizer\n",
    "from sklearn.preprocessing import normalize\n",
    "from transformers import AutoTokenizer, AutoModelForSequenceClassification, pipeline, AutoModelForSeq2SeqLM"
   ]
  },
  {
   "cell_type": "code",
   "execution_count": 7,
   "id": "d562c6ee-8024-4404-9c19-e352832e0b9a",
   "metadata": {
    "tags": []
   },
   "outputs": [],
   "source": [
    "# Define the base path\n",
    "base_path = \"C:/Users/Andre/Box/DS5001 Final Project/\""
   ]
  },
  {
   "cell_type": "markdown",
   "id": "e10a83f8-c773-4a32-9504-08d075937e52",
   "metadata": {},
   "source": [
    "## Import Data"
   ]
  },
  {
   "cell_type": "code",
   "execution_count": 10,
   "id": "ecad6ed5-2f78-4221-9bd6-d70ec343a152",
   "metadata": {
    "tags": []
   },
   "outputs": [],
   "source": [
    "LIB = pd.read_csv(base_path + \"output/LIB.csv\", delimiter = \"|\")\n",
    "CORPUS = pd.read_csv(base_path + \"output/CORPUS.csv\", delimiter = \"|\")\n",
    "VOCAB = pd.read_csv(base_path + \"output/TFIDF_L2.csv\", delimiter = \"|\")\n",
    "TFIDF = pd.read_csv(base_path + \"output/TFIDF_L2.csv\", delimiter = \"|\")\n",
    "TFIDF_L2 = pd.read_csv(base_path + \"output/TFIDF_L2.csv\", delimiter = \"|\")"
   ]
  },
  {
   "cell_type": "markdown",
   "id": "b9b4dc23-11ac-4ff6-b071-5c8aa0d13557",
   "metadata": {},
   "source": [
    "# Create tables"
   ]
  },
  {
   "cell_type": "markdown",
   "id": "75e28bf5-c68b-410e-b0aa-1b4dc14296b2",
   "metadata": {},
   "source": [
    "## Bag-of-words (BOW)"
   ]
  },
  {
   "cell_type": "code",
   "execution_count": null,
   "id": "75f78296-7683-4f2b-8a98-28b53a168a42",
   "metadata": {},
   "outputs": [],
   "source": [
    "def create_bow(CORPUS, bag, item_type='term_str'):\n",
    "    BOW = CORPUS.groupby(bag+[item_type])[item_type].count().to_frame('n')\n",
    "    return BOW"
   ]
  },
  {
   "cell_type": "code",
   "execution_count": null,
   "id": "2a79408c-00ac-4bf8-b2f7-4351331dac9f",
   "metadata": {},
   "outputs": [],
   "source": [
    "BOW_document = create_bow(CORPUS, bag=['document_id'])\n",
    "BOW_document"
   ]
  },
  {
   "cell_type": "code",
   "execution_count": null,
   "id": "fefeadff-9831-4738-a0fc-0d73d58a3dee",
   "metadata": {},
   "outputs": [],
   "source": [
    "BOW_document.to_csv(base_path + \"output/BOW_document.csv\", sep='|', index=True)"
   ]
  },
  {
   "cell_type": "code",
   "execution_count": null,
   "id": "6c547b6a-b9bc-41c6-a950-a391fe711135",
   "metadata": {},
   "outputs": [],
   "source": [
    "BOW_sentence = create_bow(CORPUS, bag=['document_id', 'sentence_num'])\n",
    "BOW_sentence"
   ]
  },
  {
   "cell_type": "code",
   "execution_count": null,
   "id": "46c1117c-cc2d-4e9f-b81f-2b0697e3f5b7",
   "metadata": {},
   "outputs": [],
   "source": [
    "BOW_sentence.to_csv(base_path + \"output/BOW_sentence.csv\", sep='|', index=True)"
   ]
  },
  {
   "cell_type": "markdown",
   "id": "a4496700-d195-4f7b-a993-207b25a58c27",
   "metadata": {},
   "source": [
    "## Create a document-term matrix (DTM)"
   ]
  },
  {
   "cell_type": "code",
   "execution_count": null,
   "id": "25399032-492b-4ae8-b4e7-841a8e072628",
   "metadata": {},
   "outputs": [],
   "source": [
    "TF = CORPUS.groupby(['document_id', 'term_str']).size().reset_index(name='n')\n",
    "DTM = TF.pivot(index='document_id', columns='term_str', values='n').fillna(0)\n",
    "DTM"
   ]
  },
  {
   "cell_type": "code",
   "execution_count": null,
   "id": "9079426a-e598-4e94-ae6b-d0455120e173",
   "metadata": {},
   "outputs": [],
   "source": [
    "DTM.to_csv(base_path + \"output/DTM.csv\", sep='|', index=True)"
   ]
  },
  {
   "cell_type": "markdown",
   "id": "1daf7e06-dfd3-4240-969f-f3b998499ade",
   "metadata": {},
   "source": [
    "## Create TFIDF"
   ]
  },
  {
   "cell_type": "code",
   "execution_count": null,
   "id": "948de1e4-2fd1-4718-9832-203c7e5fedb8",
   "metadata": {},
   "outputs": [],
   "source": [
    "# Grouping tokens back into document-level strings\n",
    "grouped_corpus = CORPUS.groupby('document_id')['term_str'].apply(' '.join).reset_index()\n",
    "\n",
    "# Using sklearn's TfidfVectorizer to compute TF-IDF\n",
    "vectorizer = TfidfVectorizer()\n",
    "tfidf_matrix = vectorizer.fit_transform(grouped_corpus['term_str'])\n",
    "\n",
    "# Converting the TF-IDF matrix to a DataFrame\n",
    "TFIDF = pd.DataFrame(tfidf_matrix.toarray(), columns=vectorizer.get_feature_names_out(), index=grouped_corpus['document_id'])\n",
    "\n",
    "TFIDF"
   ]
  },
  {
   "cell_type": "code",
   "execution_count": null,
   "id": "df122891-59cb-4299-824b-b0edcc13e6e9",
   "metadata": {},
   "outputs": [],
   "source": [
    "TFIDF.to_csv(base_path + \"output/TFIDF.csv\", sep='|', index=True)"
   ]
  },
  {
   "cell_type": "markdown",
   "id": "49b16dc7-3e67-4ea8-8994-d5ca82243f74",
   "metadata": {},
   "source": [
    "## Create a reduced and Normalized TFIDF_L2"
   ]
  },
  {
   "cell_type": "code",
   "execution_count": null,
   "id": "251eefa8-3f5c-468a-80da-82d0c91ded54",
   "metadata": {},
   "outputs": [],
   "source": [
    "# Convert the TFIDF DataFrame to a numpy array for processing\n",
    "TFIDF_array = TFIDF.values\n",
    "\n",
    "# Apply L2 normalization\n",
    "TFIDF_normalized = normalize(TFIDF_array, norm='l2', axis=1)\n",
    "\n",
    "# Convert the normalized array back to a DataFrame\n",
    "TFIDF_L2 = pd.DataFrame(TFIDF_normalized, index=TFIDF.index, columns=TFIDF.columns)\n",
    "\n",
    "#Display\n",
    "TFIDF_L2"
   ]
  },
  {
   "cell_type": "code",
   "execution_count": null,
   "id": "f043cb34-1594-4bc7-9dbc-9b164ea58d9d",
   "metadata": {},
   "outputs": [],
   "source": [
    "TFIDF_L2.to_csv(base_path + \"output/TFIDF_L2.csv\", sep='|', index=True)"
   ]
  }
 ],
 "metadata": {
  "kernelspec": {
   "display_name": "Python 3 (ipykernel)",
   "language": "python",
   "name": "python3"
  },
  "language_info": {
   "codemirror_mode": {
    "name": "ipython",
    "version": 3
   },
   "file_extension": ".py",
   "mimetype": "text/x-python",
   "name": "python",
   "nbconvert_exporter": "python",
   "pygments_lexer": "ipython3",
   "version": "3.11.5"
  }
 },
 "nbformat": 4,
 "nbformat_minor": 5
}
